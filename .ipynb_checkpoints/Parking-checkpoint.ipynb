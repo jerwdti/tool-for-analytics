{
 "cells": [
  {
   "cell_type": "code",
   "execution_count": 1,
   "id": "bfc686e2-c624-450e-b9c1-1019c6b0538d",
   "metadata": {},
   "outputs": [
    {
     "name": "stderr",
     "output_type": "stream",
     "text": [
      "/opt/anaconda3/lib/python3.8/site-packages/IPython/core/interactiveshell.py:3165: DtypeWarning: Columns (20,31,32) have mixed types.Specify dtype option on import or set low_memory=False.\n",
      "  has_raised = await self.run_ast_nodes(code_ast.body, cell_name,\n"
     ]
    }
   ],
   "source": [
    "import pandas as pd\n",
    "df = pd.read_csv(\"311_Service_Requests_2020.csv\")"
   ]
  },
  {
   "cell_type": "code",
   "execution_count": 2,
   "id": "12a9da32-dc50-4aef-aed1-c3eb21c8ca51",
   "metadata": {},
   "outputs": [],
   "source": [
    "total_incident_c = df[\"Unique Key\"].count()\n",
    "\n",
    "parking_db = df[df[\"Complaint Type\"] == \"Illegal Parking\"]\n",
    "parking_c = parking_db[\"Unique Key\"].count()"
   ]
  },
  {
   "cell_type": "code",
   "execution_count": 3,
   "id": "8411a1dc-d49f-4034-a5c8-708968a72cb4",
   "metadata": {},
   "outputs": [],
   "source": [
    "const_zipcode = 10025.0\n",
    "incidents_zip = df[df[\"Incident Zip\"] == const_zipcode]\n",
    "incidents_zip_c = incidents_zip[\"Unique Key\"].count()"
   ]
  },
  {
   "cell_type": "code",
   "execution_count": 4,
   "id": "19979a77-1302-46b1-bea6-abdf3cd83aa5",
   "metadata": {},
   "outputs": [],
   "source": [
    "parking_zip_db = incidents_zip[incidents_zip[\"Complaint Type\"] == \"Illegal Parking\"]\n",
    "parking_zip_c = parking_zip_db[\"Unique Key\"].count()"
   ]
  },
  {
   "cell_type": "code",
   "execution_count": 8,
   "id": "375d97cf-db70-45f9-a0b8-d3072be50c77",
   "metadata": {},
   "outputs": [
    {
     "name": "stdout",
     "output_type": "stream",
     "text": [
      "0.03775383735341787\n",
      "0.07487334365033108\n"
     ]
    },
    {
     "data": {
      "text/plain": [
       "False"
      ]
     },
     "execution_count": 8,
     "metadata": {},
     "output_type": "execute_result"
    }
   ],
   "source": [
    "higher_parking_proportion = (parking_zip_c / incidents_zip_c) > (parking_c / total_incident_c)\n",
    "higher_parking_proportion"
   ]
  },
  {
   "cell_type": "code",
   "execution_count": null,
   "id": "b9509de6-13d8-44d8-8b92-315d719be5e8",
   "metadata": {},
   "outputs": [],
   "source": []
  }
 ],
 "metadata": {
  "kernelspec": {
   "display_name": "Python 3",
   "language": "python",
   "name": "python3"
  },
  "language_info": {
   "codemirror_mode": {
    "name": "ipython",
    "version": 3
   },
   "file_extension": ".py",
   "mimetype": "text/x-python",
   "name": "python",
   "nbconvert_exporter": "python",
   "pygments_lexer": "ipython3",
   "version": "3.8.8"
  }
 },
 "nbformat": 4,
 "nbformat_minor": 5
}
