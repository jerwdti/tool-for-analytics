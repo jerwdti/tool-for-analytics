{
 "cells": [
  {
   "cell_type": "markdown",
   "id": "e971274c-5e3e-46ab-9459-91480b24d1ac",
   "metadata": {},
   "source": [
    "# Top 10 incidents based on zipcode"
   ]
  },
  {
   "cell_type": "markdown",
   "id": "c6e03c65-5369-467d-bed3-4ccd3b68abb8",
   "metadata": {},
   "source": [
    "New York City publishes a number of open datasets for public consumption or use. Amongst them is a dataset consisting of calls to the 311 phone number for non-emergency services. Each call to 311 has a number of datapoints tracked and aggregated. \n",
    "\n",
    "This script is used to tackle query on the top incidents type in 311 database based on zipcode"
   ]
  },
  {
   "cell_type": "markdown",
   "id": "e0338d33-9d26-4c02-af31-682fc09b8797",
   "metadata": {},
   "source": [
    "## Assumption: \n",
    "\"311_Service_Requests_2020.csv\" is in the current directry, this is not uploaded on github and can be dowloaded [here](https://drive.google.com/drive/folders/1BRd8_RSST69UaZRBeD_dtXGw9fuKoBZE?usp=sharing)"
   ]
  },
  {
   "cell_type": "code",
   "execution_count": 1,
   "id": "f5fced7a-80d5-4050-9055-17c83bc2bede",
   "metadata": {},
   "outputs": [
    {
     "name": "stderr",
     "output_type": "stream",
     "text": [
      "/opt/anaconda3/lib/python3.8/site-packages/IPython/core/interactiveshell.py:3165: DtypeWarning: Columns (20,31,32) have mixed types.Specify dtype option on import or set low_memory=False.\n",
      "  has_raised = await self.run_ast_nodes(code_ast.body, cell_name,\n"
     ]
    }
   ],
   "source": [
    "import pandas as pd\n",
    "df = pd.read_csv(\"311_Service_Requests_2020.csv\")"
   ]
  },
  {
   "cell_type": "markdown",
   "id": "9ea4a070-e79c-40d5-920b-7caa5a71cfcc",
   "metadata": {},
   "source": [
    "variable `const_zipcode` can be changed to other zipcode in New York City, it is set to 10025 as default.\n",
    "\n",
    "this code retrieve data from csv file based on variable `const_zipcode`"
   ]
  },
  {
   "cell_type": "code",
   "execution_count": 2,
   "id": "46d9ed40-8f56-45e5-afcc-db0aee845c88",
   "metadata": {},
   "outputs": [],
   "source": [
    "const_zipcode = 10025.0\n",
    "incidents_zip = df[df[\"Incident Zip\"] == const_zipcode]"
   ]
  },
  {
   "cell_type": "markdown",
   "id": "d9362e76-e445-4bd6-8db8-eed6c44a5688",
   "metadata": {},
   "source": [
    "variable `top10` is the return value that contains the incident type and count of this complaint type "
   ]
  },
  {
   "cell_type": "code",
   "execution_count": 3,
   "id": "998575a5-ecaf-49e1-90cc-c2ca21c006d0",
   "metadata": {},
   "outputs": [
    {
     "data": {
      "text/plain": [
       "Noise - Residential            2952\n",
       "Noise - Street/Sidewalk        2128\n",
       "HEAT/HOT WATER                 1885\n",
       "Noise                          1131\n",
       "Illegal Parking                 792\n",
       "Noise - Vehicle                 787\n",
       "Non-Emergency Police Matter     773\n",
       "Rodent                          691\n",
       "Illegal Fireworks               672\n",
       "UNSANITARY CONDITION            565\n",
       "Name: Complaint Type, dtype: int64"
      ]
     },
     "execution_count": 3,
     "metadata": {},
     "output_type": "execute_result"
    }
   ],
   "source": [
    "top10 = incidents_zip[\"Complaint Type\"].value_counts().head(10)\n",
    "top10"
   ]
  },
  {
   "cell_type": "code",
   "execution_count": null,
   "id": "271c0fbb-6a2d-45be-b84d-f7a5def9c4d0",
   "metadata": {},
   "outputs": [],
   "source": []
  }
 ],
 "metadata": {
  "kernelspec": {
   "display_name": "Python 3",
   "language": "python",
   "name": "python3"
  },
  "language_info": {
   "codemirror_mode": {
    "name": "ipython",
    "version": 3
   },
   "file_extension": ".py",
   "mimetype": "text/x-python",
   "name": "python",
   "nbconvert_exporter": "python",
   "pygments_lexer": "ipython3",
   "version": "3.8.8"
  }
 },
 "nbformat": 4,
 "nbformat_minor": 5
}
