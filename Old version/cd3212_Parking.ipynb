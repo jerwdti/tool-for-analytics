{
 "cells": [
  {
   "cell_type": "markdown",
   "id": "972208ae-95bb-48d5-ad7c-3aa4ca044343",
   "metadata": {},
   "source": [
    "# Parking incidents proportion locally versus generally"
   ]
  },
  {
   "cell_type": "markdown",
   "id": "1764e9dc-d2f1-40fa-9390-b8e072de6bc9",
   "metadata": {},
   "source": [
    "New York City publishes a number of open datasets for public consumption or use. Amongst them is a dataset consisting of calls to the 311 phone number for non-emergency services. Each call to 311 has a number of datapoints tracked and aggregated. \n",
    "\n",
    "This script is used to tackle query on the top incidents type in 311 database based on zipcode"
   ]
  },
  {
   "cell_type": "markdown",
   "id": "f2ecd217-e152-4215-8c7b-0693957fa86c",
   "metadata": {},
   "source": [
    "## Assumption: \n",
    "\"311_Service_Requests_2020.csv\" is in the current directry, this is not uploaded on github and can be dowloaded [here](https://drive.google.com/drive/folders/1BRd8_RSST69UaZRBeD_dtXGw9fuKoBZE?usp=sharing)"
   ]
  },
  {
   "cell_type": "code",
   "execution_count": 1,
   "id": "bfc686e2-c624-450e-b9c1-1019c6b0538d",
   "metadata": {},
   "outputs": [
    {
     "name": "stderr",
     "output_type": "stream",
     "text": [
      "/opt/anaconda3/lib/python3.8/site-packages/IPython/core/interactiveshell.py:3165: DtypeWarning: Columns (20,31,32) have mixed types.Specify dtype option on import or set low_memory=False.\n",
      "  has_raised = await self.run_ast_nodes(code_ast.body, cell_name,\n"
     ]
    }
   ],
   "source": [
    "import pandas as pd\n",
    "df = pd.read_csv(\"311_Service_Requests_2020.csv\")"
   ]
  },
  {
   "cell_type": "markdown",
   "id": "6e9d5d27-1d11-4153-8258-fde92dd84eb8",
   "metadata": {},
   "source": [
    "each data in the 311 dataset has a `Unique key`, this code is retrieving all the Illegal parking incident counts in the whole databse  "
   ]
  },
  {
   "cell_type": "code",
   "execution_count": 2,
   "id": "12a9da32-dc50-4aef-aed1-c3eb21c8ca51",
   "metadata": {},
   "outputs": [],
   "source": [
    "total_incident_c = df[\"Unique Key\"].count()\n",
    "\n",
    "parking_db = df[df[\"Complaint Type\"] == \"Illegal Parking\"]\n",
    "parking_c = parking_db[\"Unique Key\"].count()"
   ]
  },
  {
   "cell_type": "markdown",
   "id": "28cc0432-22f7-4e72-acb6-9736e7bcb607",
   "metadata": {},
   "source": [
    "variable `const_zipcode` can be changed to other zipcode in New York City, it is set to 10025 as default.\n",
    "\n",
    "this code retrieve data from csv file based on variable `const_zipcode`"
   ]
  },
  {
   "cell_type": "code",
   "execution_count": 3,
   "id": "8411a1dc-d49f-4034-a5c8-708968a72cb4",
   "metadata": {},
   "outputs": [],
   "source": [
    "const_zipcode = 10025.0\n",
    "incidents_zip = df[df[\"Incident Zip\"] == const_zipcode]\n",
    "incidents_zip_c = incidents_zip[\"Unique Key\"].count()"
   ]
  },
  {
   "cell_type": "markdown",
   "id": "894ff342-3db2-4b92-ba61-597ab0785d5a",
   "metadata": {},
   "source": [
    "this code is retrieving all the Illegal parking incident counts in the databse based on zipcode that is indicated by variable `const_zipcode`"
   ]
  },
  {
   "cell_type": "code",
   "execution_count": 4,
   "id": "19979a77-1302-46b1-bea6-abdf3cd83aa5",
   "metadata": {},
   "outputs": [],
   "source": [
    "parking_zip_db = incidents_zip[incidents_zip[\"Complaint Type\"] == \"Illegal Parking\"]\n",
    "parking_zip_c = parking_zip_db[\"Unique Key\"].count()"
   ]
  },
  {
   "cell_type": "markdown",
   "id": "530dfa8b-7d04-40aa-a505-2cd63f5115e5",
   "metadata": {},
   "source": [
    "`higher_parking_proportion` would return true if the parking incident based zipcode indicated by variable `const_zipcode` contains a higher proportion of parking incidents than the global value, and False otherwise.\n",
    "\n",
    "For instance, if there were 200 parking incidents in the area, and 1000 total incidents based on ZIP, a rate of 20%, but the global parking incident rate was 3000 parking incidents out of 10000 total, a ratio of 30%,  `higher_parking_proportion = False`.\n",
    "\n"
   ]
  },
  {
   "cell_type": "code",
   "execution_count": 5,
   "id": "375d97cf-db70-45f9-a0b8-d3072be50c77",
   "metadata": {},
   "outputs": [
    {
     "data": {
      "text/plain": [
       "False"
      ]
     },
     "execution_count": 5,
     "metadata": {},
     "output_type": "execute_result"
    }
   ],
   "source": [
    "higher_parking_proportion = (parking_zip_c / incidents_zip_c) > (parking_c / total_incident_c)\n",
    "higher_parking_proportion"
   ]
  },
  {
   "cell_type": "code",
   "execution_count": null,
   "id": "63a440af-0a48-447d-aee1-bc67b21696e5",
   "metadata": {},
   "outputs": [],
   "source": []
  }
 ],
 "metadata": {
  "kernelspec": {
   "display_name": "Python 3",
   "language": "python",
   "name": "python3"
  },
  "language_info": {
   "codemirror_mode": {
    "name": "ipython",
    "version": 3
   },
   "file_extension": ".py",
   "mimetype": "text/x-python",
   "name": "python",
   "nbconvert_exporter": "python",
   "pygments_lexer": "ipython3",
   "version": "3.8.8"
  }
 },
 "nbformat": 4,
 "nbformat_minor": 5
}
