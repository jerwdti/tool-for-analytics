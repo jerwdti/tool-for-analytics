{
 "cells": [
  {
   "cell_type": "code",
   "execution_count": null,
   "id": "26b81397-2f0c-4b08-af32-a9b0f463b172",
   "metadata": {},
   "outputs": [],
   "source": [
    "import pandas as pd"
   ]
  },
  {
   "cell_type": "code",
   "execution_count": null,
   "id": "638d1de6-e464-45e4-af35-94acedc63d98",
   "metadata": {},
   "outputs": [],
   "source": [
    "df = pd.read_csv(\"311_Service_Requests_2020.csv\")  # read_csv()\n",
    "\n",
    "parking_zip = df[df[\"Incident Zip\"] == 10025][\"Complaint Type\"].value_counts()[\"Illegal Parking\"]\n",
    "total_zip = df[df[\"Incident Zip\"] == 10025][\"Complaint Type\"].count() \n",
    "fraction_zip = parking_zip / total_zip\n",
    "fraction_zip\n",
    "\n",
    "parking_NY = df[\"Complaint Type\"].value_counts()[\"Illegal Parking\"]\n",
    "total_NY = df[\"Complaint Type\"].count()\n",
    "fraction_NY = parking_NY / total_NY\n",
    "\n",
    "higher_parking_proportion = fraction_zip > fraction_NY\n",
    "higher_parking_proportion"
   ]
  },
  {
   "cell_type": "code",
   "execution_count": null,
   "id": "fdcecddc-42c3-429c-8dd7-a6ce6f56ad4a",
   "metadata": {},
   "outputs": [],
   "source": []
  }
 ],
 "metadata": {
  "kernelspec": {
   "display_name": "Python 3",
   "language": "python",
   "name": "python3"
  },
  "language_info": {
   "codemirror_mode": {
    "name": "ipython",
    "version": 3
   },
   "file_extension": ".py",
   "mimetype": "text/x-python",
   "name": "python",
   "nbconvert_exporter": "python",
   "pygments_lexer": "ipython3",
   "version": "3.8.8"
  }
 },
 "nbformat": 4,
 "nbformat_minor": 5
}
